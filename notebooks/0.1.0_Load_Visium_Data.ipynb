{
 "cells": [
  {
   "cell_type": "markdown",
   "metadata": {},
   "source": [
    "# 0.1.0 Load Visium Data\n",
    "\n",
    "See [Space Ranger documentation](https://support.10xgenomics.com/spatial-gene-expression/software/pipelines/latest/output/overview) - paraphrased below:\n",
    "\n",
    "### tissue_positions_list.txt \n",
    "This text file contains a table with rows that correspond to spots. It has 4,992 rows, which is the number of spots in the spatial array. Columns, whose names are not specified in the file, correspond to the following fields:\n",
    "\n",
    "* barcode: The sequence of the barcode associated to the spot.\n",
    "* in_tissue: Binary, indicating if the spot falls inside (1) or outside (0) of tissue.\n",
    "* array_row: The row coordinate of the spot in the array from 0 to 77. The array has 78 rows.\n",
    "* array_col: The column coordinate of the spot in the array. In order to express the orange crate arrangement of the spots, this column index uses even numbers from 0 to 126 for even rows, and odd numbers from 1 to 127 for odd rows. Notice then that each row (even or odd) has 64 spots.\n",
    "* pxl_col_in_fullres: The column pixel coordinate of the center of the spot in the full resolution image.\n",
    "* pxl_row_in_fullres: The row pixel coordinate of the center of the spot in the full resolution image."
   ]
  },
  {
   "cell_type": "code",
   "execution_count": 1,
   "metadata": {},
   "outputs": [
    {
     "name": "stdout",
     "output_type": "stream",
     "text": [
      "0.12.3 cleaning vdj code\n"
     ]
    }
   ],
   "source": [
    "import sys\n",
    "import importlib\n",
    "sys.path.insert(0, 'himc_helper_functions/notebooks/')\n",
    "import himc_helper_functions as hf\n",
    "importlib.reload(hf)\n",
    "hf.get_version()"
   ]
  },
  {
   "cell_type": "code",
   "execution_count": 12,
   "metadata": {},
   "outputs": [],
   "source": [
    "import pandas as pd\n",
    "from copy import deepcopy\n",
    "from clustergrammer2 import net"
   ]
  },
  {
   "cell_type": "code",
   "execution_count": 40,
   "metadata": {},
   "outputs": [],
   "source": [
    "base_dir = '../data/primary/V1_Mouse_Brain_Sagittal_Anterior/'"
   ]
  },
  {
   "cell_type": "code",
   "execution_count": 41,
   "metadata": {},
   "outputs": [],
   "source": [
    "feat_data = hf.load_crv3_feature_matrix(base_dir + 'filtered_feature_bc_matrix/')"
   ]
  },
  {
   "cell_type": "code",
   "execution_count": 42,
   "metadata": {},
   "outputs": [
    {
     "name": "stdout",
     "output_type": "stream",
     "text": [
      "gex\n",
      "31053 2696\n",
      "(31053, 2696) \n",
      "\n"
     ]
    }
   ],
   "source": [
    "hf.check_feature_data_size(feat_data)"
   ]
  },
  {
   "cell_type": "code",
   "execution_count": 43,
   "metadata": {},
   "outputs": [
    {
     "data": {
      "text/plain": [
       "(31053, 2696)"
      ]
     },
     "execution_count": 43,
     "metadata": {},
     "output_type": "execute_result"
    }
   ],
   "source": [
    "df = hf.convert_to_dense(feat_data)\n",
    "df['gex'].shape"
   ]
  },
  {
   "cell_type": "markdown",
   "metadata": {},
   "source": [
    "### Load Spatial Data"
   ]
  },
  {
   "cell_type": "code",
   "execution_count": 44,
   "metadata": {},
   "outputs": [
    {
     "name": "stdout",
     "output_type": "stream",
     "text": [
      "(4992, 5)\n"
     ]
    }
   ],
   "source": [
    "cols = ['in_tissue', 'array_row', 'array_col', 'pxl_col_in_fullres', 'pxl_row_in_fullres']\n",
    "df_pos = pd.read_csv(base_dir + 'spatial/tissue_positions_list.csv', header=None, index_col=0)\n",
    "df_pos.columns = cols\n",
    "df_pos.index.name = None\n",
    "print(df_pos.shape)"
   ]
  },
  {
   "cell_type": "code",
   "execution_count": 31,
   "metadata": {},
   "outputs": [
    {
     "data": {
      "text/html": [
       "<div>\n",
       "<style scoped>\n",
       "    .dataframe tbody tr th:only-of-type {\n",
       "        vertical-align: middle;\n",
       "    }\n",
       "\n",
       "    .dataframe tbody tr th {\n",
       "        vertical-align: top;\n",
       "    }\n",
       "\n",
       "    .dataframe thead th {\n",
       "        text-align: right;\n",
       "    }\n",
       "</style>\n",
       "<table border=\"1\" class=\"dataframe\">\n",
       "  <thead>\n",
       "    <tr style=\"text-align: right;\">\n",
       "      <th></th>\n",
       "      <th>in_tissue</th>\n",
       "      <th>array_row</th>\n",
       "      <th>array_col</th>\n",
       "      <th>pxl_col_in_fullres</th>\n",
       "      <th>pxl_row_in_fullres</th>\n",
       "    </tr>\n",
       "  </thead>\n",
       "  <tbody>\n",
       "    <tr>\n",
       "      <th>ACGCCTGACACGCGCT-1</th>\n",
       "      <td>0</td>\n",
       "      <td>0</td>\n",
       "      <td>0</td>\n",
       "      <td>1419</td>\n",
       "      <td>1432</td>\n",
       "    </tr>\n",
       "    <tr>\n",
       "      <th>TACCGATCCAACACTT-1</th>\n",
       "      <td>0</td>\n",
       "      <td>1</td>\n",
       "      <td>1</td>\n",
       "      <td>1539</td>\n",
       "      <td>1501</td>\n",
       "    </tr>\n",
       "    <tr>\n",
       "      <th>ATTAAAGCGGACGAGC-1</th>\n",
       "      <td>0</td>\n",
       "      <td>0</td>\n",
       "      <td>2</td>\n",
       "      <td>1419</td>\n",
       "      <td>1569</td>\n",
       "    </tr>\n",
       "    <tr>\n",
       "      <th>GATAAGGGACGATTAG-1</th>\n",
       "      <td>0</td>\n",
       "      <td>1</td>\n",
       "      <td>3</td>\n",
       "      <td>1539</td>\n",
       "      <td>1638</td>\n",
       "    </tr>\n",
       "    <tr>\n",
       "      <th>GTGCAAATCACCAATA-1</th>\n",
       "      <td>0</td>\n",
       "      <td>0</td>\n",
       "      <td>4</td>\n",
       "      <td>1419</td>\n",
       "      <td>1707</td>\n",
       "    </tr>\n",
       "  </tbody>\n",
       "</table>\n",
       "</div>"
      ],
      "text/plain": [
       "                    in_tissue  array_row  array_col  pxl_col_in_fullres  \\\n",
       "ACGCCTGACACGCGCT-1          0          0          0                1419   \n",
       "TACCGATCCAACACTT-1          0          1          1                1539   \n",
       "ATTAAAGCGGACGAGC-1          0          0          2                1419   \n",
       "GATAAGGGACGATTAG-1          0          1          3                1539   \n",
       "GTGCAAATCACCAATA-1          0          0          4                1419   \n",
       "\n",
       "                    pxl_row_in_fullres  \n",
       "ACGCCTGACACGCGCT-1                1432  \n",
       "TACCGATCCAACACTT-1                1501  \n",
       "ATTAAAGCGGACGAGC-1                1569  \n",
       "GATAAGGGACGATTAG-1                1638  \n",
       "GTGCAAATCACCAATA-1                1707  "
      ]
     },
     "execution_count": 31,
     "metadata": {},
     "output_type": "execute_result"
    }
   ],
   "source": [
    "df_pos.head()"
   ]
  },
  {
   "cell_type": "markdown",
   "metadata": {},
   "source": [
    "#### Keep beads in tissue only"
   ]
  },
  {
   "cell_type": "code",
   "execution_count": 51,
   "metadata": {},
   "outputs": [
    {
     "data": {
      "text/plain": [
       "(2696, 5)"
      ]
     },
     "execution_count": 51,
     "metadata": {},
     "output_type": "execute_result"
    }
   ],
   "source": [
    "df_meta = deepcopy(df_pos[df_pos['in_tissue'] == 1])\n",
    "df_meta.shape"
   ]
  },
  {
   "cell_type": "markdown",
   "metadata": {},
   "source": [
    "#### Define Position in Preferred Coordinate System"
   ]
  },
  {
   "cell_type": "code",
   "execution_count": 54,
   "metadata": {},
   "outputs": [],
   "source": [
    "df_meta['pos-x'] = df_meta['pxl_row_in_fullres'].apply(lambda x: x)\n",
    "df_meta['pos-y'] = df_meta['pxl_col_in_fullres'].apply(lambda x: df_meta['pxl_col_in_fullres'].max() - x)"
   ]
  },
  {
   "cell_type": "code",
   "execution_count": 55,
   "metadata": {},
   "outputs": [
    {
     "data": {
      "text/html": [
       "<div>\n",
       "<style scoped>\n",
       "    .dataframe tbody tr th:only-of-type {\n",
       "        vertical-align: middle;\n",
       "    }\n",
       "\n",
       "    .dataframe tbody tr th {\n",
       "        vertical-align: top;\n",
       "    }\n",
       "\n",
       "    .dataframe thead th {\n",
       "        text-align: right;\n",
       "    }\n",
       "</style>\n",
       "<table border=\"1\" class=\"dataframe\">\n",
       "  <thead>\n",
       "    <tr style=\"text-align: right;\">\n",
       "      <th></th>\n",
       "      <th>in_tissue</th>\n",
       "      <th>array_row</th>\n",
       "      <th>array_col</th>\n",
       "      <th>pxl_col_in_fullres</th>\n",
       "      <th>pxl_row_in_fullres</th>\n",
       "      <th>pos-x</th>\n",
       "      <th>pos-y</th>\n",
       "    </tr>\n",
       "  </thead>\n",
       "  <tbody>\n",
       "    <tr>\n",
       "      <th>CGGTATAGGTATTAGC-1</th>\n",
       "      <td>1</td>\n",
       "      <td>11</td>\n",
       "      <td>99</td>\n",
       "      <td>2805</td>\n",
       "      <td>8294</td>\n",
       "      <td>8294</td>\n",
       "      <td>7664</td>\n",
       "    </tr>\n",
       "    <tr>\n",
       "      <th>CGTTGAGTAATTGCGT-1</th>\n",
       "      <td>1</td>\n",
       "      <td>11</td>\n",
       "      <td>101</td>\n",
       "      <td>2805</td>\n",
       "      <td>8432</td>\n",
       "      <td>8432</td>\n",
       "      <td>7664</td>\n",
       "    </tr>\n",
       "    <tr>\n",
       "      <th>TAAATGCCGTCTCATG-1</th>\n",
       "      <td>1</td>\n",
       "      <td>11</td>\n",
       "      <td>103</td>\n",
       "      <td>2805</td>\n",
       "      <td>8569</td>\n",
       "      <td>8569</td>\n",
       "      <td>7664</td>\n",
       "    </tr>\n",
       "    <tr>\n",
       "      <th>GCAAGATGTGTTCGCG-1</th>\n",
       "      <td>1</td>\n",
       "      <td>11</td>\n",
       "      <td>105</td>\n",
       "      <td>2805</td>\n",
       "      <td>8707</td>\n",
       "      <td>8707</td>\n",
       "      <td>7664</td>\n",
       "    </tr>\n",
       "    <tr>\n",
       "      <th>GTACGTCACGTATTAA-1</th>\n",
       "      <td>1</td>\n",
       "      <td>11</td>\n",
       "      <td>107</td>\n",
       "      <td>2805</td>\n",
       "      <td>8845</td>\n",
       "      <td>8845</td>\n",
       "      <td>7664</td>\n",
       "    </tr>\n",
       "  </tbody>\n",
       "</table>\n",
       "</div>"
      ],
      "text/plain": [
       "                    in_tissue  array_row  array_col  pxl_col_in_fullres  \\\n",
       "CGGTATAGGTATTAGC-1          1         11         99                2805   \n",
       "CGTTGAGTAATTGCGT-1          1         11        101                2805   \n",
       "TAAATGCCGTCTCATG-1          1         11        103                2805   \n",
       "GCAAGATGTGTTCGCG-1          1         11        105                2805   \n",
       "GTACGTCACGTATTAA-1          1         11        107                2805   \n",
       "\n",
       "                    pxl_row_in_fullres  pos-x  pos-y  \n",
       "CGGTATAGGTATTAGC-1                8294   8294   7664  \n",
       "CGTTGAGTAATTGCGT-1                8432   8432   7664  \n",
       "TAAATGCCGTCTCATG-1                8569   8569   7664  \n",
       "GCAAGATGTGTTCGCG-1                8707   8707   7664  \n",
       "GTACGTCACGTATTAA-1                8845   8845   7664  "
      ]
     },
     "execution_count": 55,
     "metadata": {},
     "output_type": "execute_result"
    }
   ],
   "source": [
    "df_meta.head()"
   ]
  },
  {
   "cell_type": "code",
   "execution_count": 57,
   "metadata": {},
   "outputs": [
    {
     "data": {
      "text/plain": [
       "<matplotlib.axes._subplots.AxesSubplot at 0x10fbd4208>"
      ]
     },
     "execution_count": 57,
     "metadata": {},
     "output_type": "execute_result"
    },
    {
     "data": {
      "image/png": "[encoded data removed]",
      "text/plain": [
       "<Figure size 720x720 with 1 Axes>"
      ]
     },
     "metadata": {},
     "output_type": "display_data"
    }
   ],
   "source": [
    "df_meta.plot(kind='scatter', \n",
    "             x='pos-x', \n",
    "             y='pos-y', \n",
    "            figsize=(10,10))"
   ]
  },
  {
   "cell_type": "code",
   "execution_count": 58,
   "metadata": {},
   "outputs": [
    {
     "data": {
      "application/vnd.jupyter.widget-view+json": {
       "model_id": "3a2f193da7814f2880f3c83424181da1",
       "version_major": 2,
       "version_minor": 0
      },
      "text/plain": [
       "ExampleWidget(network='{\"row_nodes\": [{\"name\": \"Bc1\", \"ini\": 100, \"clust\": 85, \"rank\": 67, \"rankvar\": 71, \"gro…"
      ]
     },
     "metadata": {},
     "output_type": "display_data"
    }
   ],
   "source": [
    "net.load_df(df['gex'])\n",
    "net.filter_N_top(inst_rc='row', N_top=100, rank_type='var')\n",
    "net.normalize(axis='row', norm_type='zscore')\n",
    "net.widget()"
   ]
  },
  {
   "cell_type": "code",
   "execution_count": null,
   "metadata": {},
   "outputs": [],
   "source": []
  }
 ],
 "metadata": {
  "kernelspec": {
   "display_name": "Python 3",
   "language": "python",
   "name": "python3"
  },
  "language_info": {
   "codemirror_mode": {
    "name": "ipython",
    "version": 3
   },
   "file_extension": ".py",
   "mimetype": "text/x-python",
   "name": "python",
   "nbconvert_exporter": "python",
   "pygments_lexer": "ipython3",
   "version": "3.6.5"
  }
 },
 "nbformat": 4,
 "nbformat_minor": 2
}
