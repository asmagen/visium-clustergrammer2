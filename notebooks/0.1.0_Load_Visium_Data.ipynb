{
 "cells": [
  {
   "cell_type": "markdown",
   "metadata": {},
   "source": [
    "# 0.1.0 Load Visium Data\n",
    "\n",
    "See [Space Ranger documentation](https://support.10xgenomics.com/spatial-gene-expression/software/pipelines/latest/output/overview) - paraphrased below:\n",
    "\n",
    "### tissue_positions_list.txt \n",
    "This text file contains a table with rows that correspond to spots. It has 4,992 rows, which is the number of spots in the spatial array. Columns, whose names are not specified in the file, correspond to the following fields:\n",
    "\n",
    "* barcode: The sequence of the barcode associated to the spot.\n",
    "* in_tissue: Binary, indicating if the spot falls inside (1) or outside (0) of tissue.\n",
    "* array_row: The row coordinate of the spot in the array from 0 to 77. The array has 78 rows.\n",
    "* array_col: The column coordinate of the spot in the array. In order to express the orange crate arrangement of the spots, this column index uses even numbers from 0 to 126 for even rows, and odd numbers from 1 to 127 for odd rows. Notice then that each row (even or odd) has 64 spots.\n",
    "* pxl_col_in_fullres: The column pixel coordinate of the center of the spot in the full resolution image.\n",
    "* pxl_row_in_fullres: The row pixel coordinate of the center of the spot in the full resolution image."
   ]
  },
  {
   "cell_type": "code",
   "execution_count": 1,
   "metadata": {},
   "outputs": [
    {
     "name": "stdout",
     "output_type": "stream",
     "text": [
      "0.12.3 cleaning vdj code\n"
     ]
    }
   ],
   "source": [
    "import sys\n",
    "import importlib\n",
    "import himc_helper_functions as hf\n",
    "importlib.reload(hf)\n",
    "hf.get_version()"
   ]
  },
  {
   "cell_type": "code",
   "execution_count": 2,
   "metadata": {},
   "outputs": [
    {
     "name": "stdout",
     "output_type": "stream",
     "text": [
      ">> clustergrammer2 backend version 0.5.5\n"
     ]
    }
   ],
   "source": [
    "import pandas as pd\n",
    "from copy import deepcopy\n",
    "from clustergrammer2 import net"
   ]
  },
  {
   "cell_type": "code",
   "execution_count": 3,
   "metadata": {},
   "outputs": [],
   "source": [
    "base_dir = '../data/primary/V1_Mouse_Brain_Sagittal_Anterior/'"
   ]
  },
  {
   "cell_type": "code",
   "execution_count": 4,
   "metadata": {},
   "outputs": [],
   "source": [
    "feat_data = hf.load_crv3_feature_matrix(base_dir + 'filtered_feature_bc_matrix/')"
   ]
  },
  {
   "cell_type": "code",
   "execution_count": 17,
   "metadata": {},
   "outputs": [],
   "source": [
    "df = hf.ini_meta_cell(df=df)"
   ]
  },
  {
   "cell_type": "code",
   "execution_count": 18,
   "metadata": {},
   "outputs": [
    {
     "data": {
      "text/plain": [
       "dict_keys(['gex', 'meta_cell'])"
      ]
     },
     "execution_count": 18,
     "metadata": {},
     "output_type": "execute_result"
    }
   ],
   "source": [
    "df.keys()"
   ]
  },
  {
   "cell_type": "code",
   "execution_count": 20,
   "metadata": {},
   "outputs": [
    {
     "data": {
      "text/html": [
       "<div>\n",
       "<style scoped>\n",
       "    .dataframe tbody tr th:only-of-type {\n",
       "        vertical-align: middle;\n",
       "    }\n",
       "\n",
       "    .dataframe tbody tr th {\n",
       "        vertical-align: top;\n",
       "    }\n",
       "\n",
       "    .dataframe thead th {\n",
       "        text-align: right;\n",
       "    }\n",
       "</style>\n",
       "<table border=\"1\" class=\"dataframe\">\n",
       "  <thead>\n",
       "    <tr style=\"text-align: right;\">\n",
       "      <th></th>\n",
       "      <th>gex-umi-sum</th>\n",
       "      <th>num_expressed_genes</th>\n",
       "    </tr>\n",
       "  </thead>\n",
       "  <tbody>\n",
       "    <tr>\n",
       "      <th>AAACAAGTATCTCCCA</th>\n",
       "      <td>13069</td>\n",
       "      <td>4242</td>\n",
       "    </tr>\n",
       "    <tr>\n",
       "      <th>AAACACCAATAACTGC</th>\n",
       "      <td>37448</td>\n",
       "      <td>7860</td>\n",
       "    </tr>\n",
       "    <tr>\n",
       "      <th>AAACAGAGCGACTCCT</th>\n",
       "      <td>28475</td>\n",
       "      <td>6332</td>\n",
       "    </tr>\n",
       "    <tr>\n",
       "      <th>AAACAGCTTTCAGAAG</th>\n",
       "      <td>39718</td>\n",
       "      <td>7957</td>\n",
       "    </tr>\n",
       "    <tr>\n",
       "      <th>AAACAGGGTCTATATT</th>\n",
       "      <td>33392</td>\n",
       "      <td>7791</td>\n",
       "    </tr>\n",
       "  </tbody>\n",
       "</table>\n",
       "</div>"
      ],
      "text/plain": [
       "                  gex-umi-sum  num_expressed_genes\n",
       "AAACAAGTATCTCCCA        13069                 4242\n",
       "AAACACCAATAACTGC        37448                 7860\n",
       "AAACAGAGCGACTCCT        28475                 6332\n",
       "AAACAGCTTTCAGAAG        39718                 7957\n",
       "AAACAGGGTCTATATT        33392                 7791"
      ]
     },
     "execution_count": 20,
     "metadata": {},
     "output_type": "execute_result"
    }
   ],
   "source": [
    "df['meta_cell'].head()"
   ]
  },
  {
   "cell_type": "code",
   "execution_count": 22,
   "metadata": {},
   "outputs": [
    {
     "name": "stdout",
     "output_type": "stream",
     "text": [
      "already filtered mito and ribo genes\n"
     ]
    },
    {
     "data": {
      "text/html": [
       "<div>\n",
       "<style scoped>\n",
       "    .dataframe tbody tr th:only-of-type {\n",
       "        vertical-align: middle;\n",
       "    }\n",
       "\n",
       "    .dataframe tbody tr th {\n",
       "        vertical-align: top;\n",
       "    }\n",
       "\n",
       "    .dataframe thead th {\n",
       "        text-align: right;\n",
       "    }\n",
       "</style>\n",
       "<table border=\"1\" class=\"dataframe\">\n",
       "  <thead>\n",
       "    <tr style=\"text-align: right;\">\n",
       "      <th></th>\n",
       "      <th>gex-umi-sum</th>\n",
       "      <th>num_expressed_genes</th>\n",
       "      <th>gex-ribo-avg</th>\n",
       "      <th>gex-mito-avg</th>\n",
       "    </tr>\n",
       "  </thead>\n",
       "  <tbody>\n",
       "    <tr>\n",
       "      <th>AAACAAGTATCTCCCA</th>\n",
       "      <td>13069</td>\n",
       "      <td>4242</td>\n",
       "      <td>7.380952</td>\n",
       "      <td>97.600000</td>\n",
       "    </tr>\n",
       "    <tr>\n",
       "      <th>AAACACCAATAACTGC</th>\n",
       "      <td>37448</td>\n",
       "      <td>7860</td>\n",
       "      <td>19.809524</td>\n",
       "      <td>256.666667</td>\n",
       "    </tr>\n",
       "    <tr>\n",
       "      <th>AAACAGAGCGACTCCT</th>\n",
       "      <td>28475</td>\n",
       "      <td>6332</td>\n",
       "      <td>15.123810</td>\n",
       "      <td>275.533333</td>\n",
       "    </tr>\n",
       "    <tr>\n",
       "      <th>AAACAGCTTTCAGAAG</th>\n",
       "      <td>39718</td>\n",
       "      <td>7957</td>\n",
       "      <td>27.676190</td>\n",
       "      <td>184.400000</td>\n",
       "    </tr>\n",
       "    <tr>\n",
       "      <th>AAACAGGGTCTATATT</th>\n",
       "      <td>33392</td>\n",
       "      <td>7791</td>\n",
       "      <td>23.447619</td>\n",
       "      <td>117.600000</td>\n",
       "    </tr>\n",
       "  </tbody>\n",
       "</table>\n",
       "</div>"
      ],
      "text/plain": [
       "                  gex-umi-sum  num_expressed_genes  gex-ribo-avg  gex-mito-avg\n",
       "AAACAAGTATCTCCCA        13069                 4242      7.380952     97.600000\n",
       "AAACACCAATAACTGC        37448                 7860     19.809524    256.666667\n",
       "AAACAGAGCGACTCCT        28475                 6332     15.123810    275.533333\n",
       "AAACAGCTTTCAGAAG        39718                 7957     27.676190    184.400000\n",
       "AAACAGGGTCTATATT        33392                 7791     23.447619    117.600000"
      ]
     },
     "execution_count": 22,
     "metadata": {},
     "output_type": "execute_result"
    }
   ],
   "source": [
    "df = hf.filter_ribo_mito_from_gex(df)\n",
    "df['meta_cell'].head()"
   ]
  },
  {
   "cell_type": "code",
   "execution_count": 23,
   "metadata": {},
   "outputs": [
    {
     "data": {
      "text/plain": [
       "(30933, 2696)"
      ]
     },
     "execution_count": 23,
     "metadata": {},
     "output_type": "execute_result"
    }
   ],
   "source": [
    "df['gex'].shape"
   ]
  },
  {
   "cell_type": "code",
   "execution_count": 24,
   "metadata": {},
   "outputs": [
    {
     "data": {
      "text/plain": [
       "dict_keys(['gex', 'meta_cell', 'gex-mr'])"
      ]
     },
     "execution_count": 24,
     "metadata": {},
     "output_type": "execute_result"
    }
   ],
   "source": [
    "df.keys()"
   ]
  },
  {
   "cell_type": "markdown",
   "metadata": {},
   "source": [
    "### Load Spatial Data"
   ]
  },
  {
   "cell_type": "code",
   "execution_count": 7,
   "metadata": {},
   "outputs": [
    {
     "name": "stdout",
     "output_type": "stream",
     "text": [
      "(4992, 5)\n"
     ]
    }
   ],
   "source": [
    "cols = ['in_tissue', 'array_row', 'array_col', 'pxl_col_in_fullres', 'pxl_row_in_fullres']\n",
    "df_pos = pd.read_csv(base_dir + 'spatial/tissue_positions_list.csv', header=None, index_col=0)\n",
    "df_pos.columns = cols\n",
    "df_pos.index.name = None\n",
    "print(df_pos.shape)"
   ]
  },
  {
   "cell_type": "code",
   "execution_count": 8,
   "metadata": {},
   "outputs": [
    {
     "data": {
      "text/html": [
       "<div>\n",
       "<style scoped>\n",
       "    .dataframe tbody tr th:only-of-type {\n",
       "        vertical-align: middle;\n",
       "    }\n",
       "\n",
       "    .dataframe tbody tr th {\n",
       "        vertical-align: top;\n",
       "    }\n",
       "\n",
       "    .dataframe thead th {\n",
       "        text-align: right;\n",
       "    }\n",
       "</style>\n",
       "<table border=\"1\" class=\"dataframe\">\n",
       "  <thead>\n",
       "    <tr style=\"text-align: right;\">\n",
       "      <th></th>\n",
       "      <th>in_tissue</th>\n",
       "      <th>array_row</th>\n",
       "      <th>array_col</th>\n",
       "      <th>pxl_col_in_fullres</th>\n",
       "      <th>pxl_row_in_fullres</th>\n",
       "    </tr>\n",
       "  </thead>\n",
       "  <tbody>\n",
       "    <tr>\n",
       "      <th>ACGCCTGACACGCGCT-1</th>\n",
       "      <td>0</td>\n",
       "      <td>0</td>\n",
       "      <td>0</td>\n",
       "      <td>1487</td>\n",
       "      <td>1480</td>\n",
       "    </tr>\n",
       "    <tr>\n",
       "      <th>TACCGATCCAACACTT-1</th>\n",
       "      <td>0</td>\n",
       "      <td>1</td>\n",
       "      <td>1</td>\n",
       "      <td>1607</td>\n",
       "      <td>1549</td>\n",
       "    </tr>\n",
       "    <tr>\n",
       "      <th>ATTAAAGCGGACGAGC-1</th>\n",
       "      <td>0</td>\n",
       "      <td>0</td>\n",
       "      <td>2</td>\n",
       "      <td>1487</td>\n",
       "      <td>1617</td>\n",
       "    </tr>\n",
       "    <tr>\n",
       "      <th>GATAAGGGACGATTAG-1</th>\n",
       "      <td>0</td>\n",
       "      <td>1</td>\n",
       "      <td>3</td>\n",
       "      <td>1607</td>\n",
       "      <td>1686</td>\n",
       "    </tr>\n",
       "    <tr>\n",
       "      <th>GTGCAAATCACCAATA-1</th>\n",
       "      <td>0</td>\n",
       "      <td>0</td>\n",
       "      <td>4</td>\n",
       "      <td>1487</td>\n",
       "      <td>1755</td>\n",
       "    </tr>\n",
       "  </tbody>\n",
       "</table>\n",
       "</div>"
      ],
      "text/plain": [
       "                    in_tissue  array_row  array_col  pxl_col_in_fullres  \\\n",
       "ACGCCTGACACGCGCT-1          0          0          0                1487   \n",
       "TACCGATCCAACACTT-1          0          1          1                1607   \n",
       "ATTAAAGCGGACGAGC-1          0          0          2                1487   \n",
       "GATAAGGGACGATTAG-1          0          1          3                1607   \n",
       "GTGCAAATCACCAATA-1          0          0          4                1487   \n",
       "\n",
       "                    pxl_row_in_fullres  \n",
       "ACGCCTGACACGCGCT-1                1480  \n",
       "TACCGATCCAACACTT-1                1549  \n",
       "ATTAAAGCGGACGAGC-1                1617  \n",
       "GATAAGGGACGATTAG-1                1686  \n",
       "GTGCAAATCACCAATA-1                1755  "
      ]
     },
     "execution_count": 8,
     "metadata": {},
     "output_type": "execute_result"
    }
   ],
   "source": [
    "df_pos.head()"
   ]
  },
  {
   "cell_type": "markdown",
   "metadata": {},
   "source": [
    "#### Keep beads in tissue only"
   ]
  },
  {
   "cell_type": "code",
   "execution_count": 9,
   "metadata": {},
   "outputs": [
    {
     "data": {
      "text/plain": [
       "(2696, 5)"
      ]
     },
     "execution_count": 9,
     "metadata": {},
     "output_type": "execute_result"
    }
   ],
   "source": [
    "df_meta = deepcopy(df_pos[df_pos['in_tissue'] == 1])\n",
    "df_meta.shape"
   ]
  },
  {
   "cell_type": "markdown",
   "metadata": {},
   "source": [
    "#### Define Position in Preferred Coordinate System"
   ]
  },
  {
   "cell_type": "code",
   "execution_count": 10,
   "metadata": {},
   "outputs": [],
   "source": [
    "df_meta['pos-x'] = df_meta['pxl_row_in_fullres'].apply(lambda x: x)\n",
    "df_meta['pos-y'] = df_meta['pxl_col_in_fullres'].apply(lambda x: df_meta['pxl_col_in_fullres'].max() - x)"
   ]
  },
  {
   "cell_type": "code",
   "execution_count": 11,
   "metadata": {},
   "outputs": [
    {
     "data": {
      "text/html": [
       "<div>\n",
       "<style scoped>\n",
       "    .dataframe tbody tr th:only-of-type {\n",
       "        vertical-align: middle;\n",
       "    }\n",
       "\n",
       "    .dataframe tbody tr th {\n",
       "        vertical-align: top;\n",
       "    }\n",
       "\n",
       "    .dataframe thead th {\n",
       "        text-align: right;\n",
       "    }\n",
       "</style>\n",
       "<table border=\"1\" class=\"dataframe\">\n",
       "  <thead>\n",
       "    <tr style=\"text-align: right;\">\n",
       "      <th></th>\n",
       "      <th>in_tissue</th>\n",
       "      <th>array_row</th>\n",
       "      <th>array_col</th>\n",
       "      <th>pxl_col_in_fullres</th>\n",
       "      <th>pxl_row_in_fullres</th>\n",
       "      <th>pos-x</th>\n",
       "      <th>pos-y</th>\n",
       "    </tr>\n",
       "  </thead>\n",
       "  <tbody>\n",
       "    <tr>\n",
       "      <th>CGGTATAGGTATTAGC-1</th>\n",
       "      <td>1</td>\n",
       "      <td>11</td>\n",
       "      <td>99</td>\n",
       "      <td>2805</td>\n",
       "      <td>8294</td>\n",
       "      <td>8294</td>\n",
       "      <td>7664</td>\n",
       "    </tr>\n",
       "    <tr>\n",
       "      <th>CGTTGAGTAATTGCGT-1</th>\n",
       "      <td>1</td>\n",
       "      <td>11</td>\n",
       "      <td>101</td>\n",
       "      <td>2805</td>\n",
       "      <td>8432</td>\n",
       "      <td>8432</td>\n",
       "      <td>7664</td>\n",
       "    </tr>\n",
       "    <tr>\n",
       "      <th>TAAATGCCGTCTCATG-1</th>\n",
       "      <td>1</td>\n",
       "      <td>11</td>\n",
       "      <td>103</td>\n",
       "      <td>2805</td>\n",
       "      <td>8569</td>\n",
       "      <td>8569</td>\n",
       "      <td>7664</td>\n",
       "    </tr>\n",
       "    <tr>\n",
       "      <th>GCAAGATGTGTTCGCG-1</th>\n",
       "      <td>1</td>\n",
       "      <td>11</td>\n",
       "      <td>105</td>\n",
       "      <td>2805</td>\n",
       "      <td>8707</td>\n",
       "      <td>8707</td>\n",
       "      <td>7664</td>\n",
       "    </tr>\n",
       "    <tr>\n",
       "      <th>GTACGTCACGTATTAA-1</th>\n",
       "      <td>1</td>\n",
       "      <td>11</td>\n",
       "      <td>107</td>\n",
       "      <td>2805</td>\n",
       "      <td>8845</td>\n",
       "      <td>8845</td>\n",
       "      <td>7664</td>\n",
       "    </tr>\n",
       "  </tbody>\n",
       "</table>\n",
       "</div>"
      ],
      "text/plain": [
       "                    in_tissue  array_row  array_col  pxl_col_in_fullres  \\\n",
       "CGGTATAGGTATTAGC-1          1         11         99                2805   \n",
       "CGTTGAGTAATTGCGT-1          1         11        101                2805   \n",
       "TAAATGCCGTCTCATG-1          1         11        103                2805   \n",
       "GCAAGATGTGTTCGCG-1          1         11        105                2805   \n",
       "GTACGTCACGTATTAA-1          1         11        107                2805   \n",
       "\n",
       "                    pxl_row_in_fullres  pos-x  pos-y  \n",
       "CGGTATAGGTATTAGC-1                8294   8294   7664  \n",
       "CGTTGAGTAATTGCGT-1                8432   8432   7664  \n",
       "TAAATGCCGTCTCATG-1                8569   8569   7664  \n",
       "GCAAGATGTGTTCGCG-1                8707   8707   7664  \n",
       "GTACGTCACGTATTAA-1                8845   8845   7664  "
      ]
     },
     "execution_count": 11,
     "metadata": {},
     "output_type": "execute_result"
    }
   ],
   "source": [
    "df_meta.head()"
   ]
  },
  {
   "cell_type": "code",
   "execution_count": 12,
   "metadata": {},
   "outputs": [
    {
     "data": {
      "text/plain": [
       "<matplotlib.axes._subplots.AxesSubplot at 0x1474f2278>"
      ]
     },
     "execution_count": 12,
     "metadata": {},
     "output_type": "execute_result"
    },
    {
     "data": {
      "image/png": "[encoded data removed]",
      "text/plain": [
       "<Figure size 720x720 with 1 Axes>"
      ]
     },
     "metadata": {
      "needs_background": "light"
     },
     "output_type": "display_data"
    }
   ],
   "source": [
    "df_meta.plot(kind='scatter', \n",
    "             x='pos-x', \n",
    "             y='pos-y', \n",
    "            figsize=(10,10))"
   ]
  },
  {
   "cell_type": "code",
   "execution_count": null,
   "metadata": {},
   "outputs": [],
   "source": [
    "net.load_df(df['gex'])\n",
    "net.filter_N_top(inst_rc='row', N_top=100, rank_type='var')\n",
    "net.normalize(axis='row', norm_type='zscore')\n",
    "net.clip(-5,5)\n",
    "net.widget()"
   ]
  },
  {
   "cell_type": "code",
   "execution_count": null,
   "metadata": {},
   "outputs": [],
   "source": []
  }
 ],
 "metadata": {
  "kernelspec": {
   "display_name": "Python 3",
   "language": "python",
   "name": "python3"
  },
  "language_info": {
   "codemirror_mode": {
    "name": "ipython",
    "version": 3
   },
   "file_extension": ".py",
   "mimetype": "text/x-python",
   "name": "python",
   "nbconvert_exporter": "python",
   "pygments_lexer": "ipython3",
   "version": "3.6.6"
  }
 },
 "nbformat": 4,
 "nbformat_minor": 2
}
