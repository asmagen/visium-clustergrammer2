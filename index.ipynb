{
 "cells": [
  {
   "cell_type": "markdown",
   "metadata": {},
   "source": [
    "\n",
    "# Visium-Clustergrammer2\n",
    "\n"
   ]
  },
  {
   "cell_type": "code",
   "execution_count": 1,
   "metadata": {},
   "outputs": [],
   "source": [
    "# from IPython.core.display import display, HTML\n",
    "# display(HTML(\"<style>.container { width:70% !important; }</style>\"))"
   ]
  },
  {
   "cell_type": "code",
   "execution_count": 2,
   "metadata": {},
   "outputs": [
    {
     "name": "stdout",
     "output_type": "stream",
     "text": [
      ">> clustergrammer2 backend version 0.5.5\n"
     ]
    }
   ],
   "source": [
    "import pandas as pd\n",
    "\n",
    "from clustergrammer2 import net\n",
    "\n",
    "import ipywidgets as widgets\n",
    "import numpy as np\n",
    "from bqplot import pyplot as plt\n",
    "import bqplot\n",
    "from ipywidgets import HBox\n",
    "\n",
    "from copy import deepcopy\n",
    "from glob import glob\n",
    "from scipy.spatial.distance import pdist, squareform\n",
    "from scipy.spatial import Voronoi\n",
    "\n",
    "import warnings\n",
    "warnings.filterwarnings('ignore')"
   ]
  },
  {
   "cell_type": "code",
   "execution_count": 77,
   "metadata": {},
   "outputs": [],
   "source": [
    "# Read Metadata\n",
    "\n",
    "df_meta = pd.read_csv('data/processed/df_meta.csv', index_col=0)"
   ]
  },
  {
   "cell_type": "code",
   "execution_count": 5,
   "metadata": {},
   "outputs": [],
   "source": [
    "net.viz = net.load_json_to_dict('data/processed/pre-calc-viz.json')"
   ]
  },
  {
   "cell_type": "code",
   "execution_count": 6,
   "metadata": {},
   "outputs": [],
   "source": [
    "ini_cat_colors = net.viz['cat_colors']['col']['cat-0']\n",
    "cat_colors = {}\n",
    "for inst_key in ini_cat_colors:\n",
    "    cat_colors[inst_key.split(': ')[1]] = ini_cat_colors[inst_key]"
   ]
  },
  {
   "cell_type": "code",
   "execution_count": 7,
   "metadata": {},
   "outputs": [],
   "source": [
    "df_meta['plot-x'] = df_meta['pos-x'].apply(lambda x: x/2 - 700)\n",
    "df_meta['plot-y'] = df_meta['pos-y'].apply(lambda x: x/2 )"
   ]
  },
  {
   "cell_type": "code",
   "execution_count": 8,
   "metadata": {},
   "outputs": [
    {
     "data": {
      "text/plain": [
       "(250, 2696)"
      ]
     },
     "execution_count": 8,
     "metadata": {},
     "output_type": "execute_result"
    }
   ],
   "source": [
    "df_gex = pd.read_csv('data/processed/gex.csv', index_col=0)"
   ]
  },
  {
   "cell_type": "code",
   "execution_count": 11,
   "metadata": {},
   "outputs": [],
   "source": [
    "dot_names = list(map(lambda x,y: str(x) + '-' + str(y), df_meta['Cell Type'].tolist(), df_meta.index.tolist()) )"
   ]
  },
  {
   "cell_type": "code",
   "execution_count": 69,
   "metadata": {},
   "outputs": [],
   "source": [
    "def scatter_observe(scatter, hover_data):\n",
    "    inst_cat = hover_data['data']['name'].split('-')[0]\n",
    "    \n",
    "    list_opacities = []\n",
    "\n",
    "    for inst_label in df_meta.index.tolist():\n",
    "        inst_opacity = 0.15\n",
    "        if df_meta.loc[inst_label, 'Cell Type'] == inst_cat:\n",
    "            inst_opacity = 1\n",
    "        list_opacities.append(inst_opacity)        \n",
    "\n",
    "    # patch.opacities = list_opacities\n",
    "    scatter.default_opacities = list_opacities    "
   ]
  },
  {
   "cell_type": "code",
   "execution_count": 70,
   "metadata": {},
   "outputs": [],
   "source": [
    "x_dim = 2000\n",
    "y_dim = 2000\n",
    "\n",
    "fig = plt.figure()\n",
    "\n",
    "color_list = [ cat_colors[df_meta.loc[x, 'Cell Type']] for x in df_gex.columns.tolist()]\n",
    "\n",
    "def_tt = bqplot.Tooltip(fields=['name'], formats=[''])\n",
    "\n",
    "scatter = plt.scatter(df_meta['plot-x'], \n",
    "                      df_meta['plot-y'],\n",
    "                      display_names=False, \n",
    "                      default_size=20, \n",
    "                      tooltip=def_tt,\n",
    "                      names=dot_names,\n",
    "                      colors=color_list)\n",
    "\n",
    "\n",
    "\n",
    "scatter.default_size = 100\n",
    "# scatter.default_opacities = [0.5]*5164\n",
    "\n",
    "top_margin = 200\n",
    "inst_width = 800\n",
    "inst_height = 1000\n",
    "fig.layout.min_height = str(inst_height) + 'px'\n",
    "fig.layout.min_width  = str(inst_width) + 'px'\n",
    "\n",
    "plt.xlim(0, 2.0*x_dim)\n",
    "plt.ylim(0, 2.0*y_dim)\n",
    "fig.title = 'Visium Tissue'\n",
    "fig.fig_margin = {'top': top_margin, 'bottom': 5, 'left': 5, 'right': 5}"
   ]
  },
  {
   "cell_type": "code",
   "execution_count": 71,
   "metadata": {},
   "outputs": [],
   "source": [
    "scatter.on_hover(callback=scatter_observe)"
   ]
  },
  {
   "cell_type": "code",
   "execution_count": 72,
   "metadata": {},
   "outputs": [],
   "source": [
    "default_opacity = 0.85"
   ]
  },
  {
   "cell_type": "code",
   "execution_count": 73,
   "metadata": {},
   "outputs": [],
   "source": [
    "def cat_highlight(inst_value):\n",
    "    \n",
    "    cols = df_gex.columns.tolist()\n",
    "\n",
    "    if inst_value == 'reset_cats':\n",
    "        list_opacities = [default_opacity for x in cols]\n",
    "        scatter.default_opacities = list_opacities\n",
    "        \n",
    "    else:\n",
    "        \n",
    "        inst_cat_title = inst_value.split(': ')[0]\n",
    "        inst_cat = inst_value.split(': ')[1]\n",
    "\n",
    "        list_opacities = []\n",
    "\n",
    "        for inst_label in cols:\n",
    "            inst_opacity = 0.15\n",
    "            if df_meta.loc[inst_label, inst_cat_title] == inst_cat:\n",
    "                inst_opacity = 1\n",
    "            list_opacities.append(inst_opacity)        \n",
    "\n",
    "    # patch.opacities = list_opacities\n",
    "    scatter.default_opacities = list_opacities"
   ]
  },
  {
   "cell_type": "code",
   "execution_count": 74,
   "metadata": {},
   "outputs": [],
   "source": [
    "def on_value_change(change):\n",
    "    \n",
    "    if change['new'] == 'null':\n",
    "        cat_highlight('reset_cats')\n",
    "        \n",
    "        fig.title = 'Visium Tissue'\n",
    "    else: \n",
    "        # mousing over category\n",
    "        if 'cat-' in change['new']:\n",
    "            inst_cat = change['new'].split(' -> ')[1]\n",
    "            \n",
    "            # print('on_value_change', inst_cat)\n",
    "            cat_highlight(inst_cat)       \n",
    "            \n",
    "            fig.title = 'Visium Tissue'\n",
    "            \n",
    "        # mousing over marker\n",
    "        else:\n",
    "            inst_marker = change['new'].split(' -> ')[1]\n",
    "            ser_opacity = df_gex.loc[inst_marker]\n",
    "            \n",
    "            fig.title = 'Visium Tissue: ' + inst_marker\n",
    "            \n",
    "            \n",
    "            # the scatterplot dots are not in the same order as the data in the dataframe\n",
    "            #list_opacities = [float(x/ser_opacity.max()) for x in list(ser_opacity.get_values())]\n",
    "            \n",
    "            # loop up opacities\n",
    "            list_opacities = []\n",
    "            rows = ser_opacity.index.tolist()\n",
    "            for inst_name in df_gex.columns.tolist():\n",
    "                if inst_name in rows:\n",
    "                    list_opacities.append( float(ser_opacity[inst_name]/ser_opacity.max())  )\n",
    "                else:\n",
    "                    list_opacities.append(0)\n",
    "                \n",
    "            scatter.default_opacities = list_opacities\n"
   ]
  },
  {
   "cell_type": "code",
   "execution_count": 75,
   "metadata": {},
   "outputs": [],
   "source": [
    "net.widget()\n",
    "net.widget_instance.observe(on_value_change, names='value')"
   ]
  },
  {
   "cell_type": "code",
   "execution_count": null,
   "metadata": {},
   "outputs": [],
   "source": []
  },
  {
   "cell_type": "code",
   "execution_count": 76,
   "metadata": {
    "scrolled": false
   },
   "outputs": [
    {
     "name": "stdout",
     "output_type": "stream",
     "text": [
      "HERE L2/3\n"
     ]
    },
    {
     "data": {
      "application/vnd.jupyter.widget-view+json": {
       "model_id": "162dc9a1c58b468ab1e6579ea76d3417",
       "version_major": 2,
       "version_minor": 0
      },
      "text/plain": [
       "HBox(children=(Figure(axes=[Axis(scale=LinearScale(max=4000.0, min=0.0), side='bottom'), Axis(orientation='ver…"
      ]
     },
     "metadata": {},
     "output_type": "display_data"
    },
    {
     "name": "stdout",
     "output_type": "stream",
     "text": [
      "HERE Vip\n",
      "HERE Vip\n",
      "HERE Vip\n",
      "HERE Astrocyte\n",
      "HERE L2/3\n",
      "HERE L5a1\n",
      "HERE L5a\n",
      "HERE L6a1\n",
      "HERE L6a2\n",
      "HERE L6a1\n",
      "HERE L6a1\n",
      "HERE L6a1\n",
      "HERE L6a1\n",
      "HERE L5b\n",
      "HERE L4\n",
      "HERE L4\n",
      "HERE L2/3\n",
      "HERE OPC\n"
     ]
    }
   ],
   "source": [
    "HBox([fig, net.widget_instance])"
   ]
  },
  {
   "cell_type": "code",
   "execution_count": null,
   "metadata": {},
   "outputs": [],
   "source": []
  },
  {
   "cell_type": "code",
   "execution_count": null,
   "metadata": {},
   "outputs": [],
   "source": []
  },
  {
   "cell_type": "code",
   "execution_count": null,
   "metadata": {},
   "outputs": [],
   "source": []
  },
  {
   "cell_type": "code",
   "execution_count": null,
   "metadata": {},
   "outputs": [],
   "source": []
  },
  {
   "cell_type": "code",
   "execution_count": null,
   "metadata": {},
   "outputs": [],
   "source": []
  },
  {
   "cell_type": "code",
   "execution_count": null,
   "metadata": {},
   "outputs": [],
   "source": []
  },
  {
   "cell_type": "code",
   "execution_count": null,
   "metadata": {},
   "outputs": [],
   "source": []
  }
 ],
 "metadata": {
  "kernelspec": {
   "display_name": "Python 3",
   "language": "python",
   "name": "python3"
  },
  "language_info": {
   "codemirror_mode": {
    "name": "ipython",
    "version": 3
   },
   "file_extension": ".py",
   "mimetype": "text/x-python",
   "name": "python",
   "nbconvert_exporter": "python",
   "pygments_lexer": "ipython3",
   "version": "3.6.6"
  }
 },
 "nbformat": 4,
 "nbformat_minor": 2
}
