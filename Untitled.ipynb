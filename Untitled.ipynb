{
 "cells": [
  {
   "cell_type": "code",
   "execution_count": 6,
   "metadata": {},
   "outputs": [],
   "source": [
    "import pandas as pd\n",
    "df = {}\n",
    "\n",
    "from clustergrammer2 import net\n",
    "\n",
    "import ipywidgets as widgets\n",
    "import numpy as np\n",
    "from bqplot import pyplot as plt\n",
    "import bqplot\n",
    "\n",
    "from copy import deepcopy\n",
    "from glob import glob\n",
    "from scipy.spatial.distance import pdist, squareform\n",
    "from scipy.spatial import Voronoi\n",
    "\n",
    "import warnings\n",
    "warnings.filterwarnings('ignore')"
   ]
  },
  {
   "cell_type": "code",
   "execution_count": 7,
   "metadata": {},
   "outputs": [
    {
     "data": {
      "text/plain": [
       "(2696, 12)"
      ]
     },
     "execution_count": 7,
     "metadata": {},
     "output_type": "execute_result"
    }
   ],
   "source": [
    "df = pd.read_csv('data/processed/df_meta.csv', index_col=0)\n",
    "df.shape"
   ]
  },
  {
   "cell_type": "code",
   "execution_count": 8,
   "metadata": {},
   "outputs": [
    {
     "data": {
      "text/html": [
       "<div>\n",
       "<style scoped>\n",
       "    .dataframe tbody tr th:only-of-type {\n",
       "        vertical-align: middle;\n",
       "    }\n",
       "\n",
       "    .dataframe tbody tr th {\n",
       "        vertical-align: top;\n",
       "    }\n",
       "\n",
       "    .dataframe thead th {\n",
       "        text-align: right;\n",
       "    }\n",
       "</style>\n",
       "<table border=\"1\" class=\"dataframe\">\n",
       "  <thead>\n",
       "    <tr style=\"text-align: right;\">\n",
       "      <th></th>\n",
       "      <th>gex-umi-sum</th>\n",
       "      <th>num_expressed_genes</th>\n",
       "      <th>gex-ribo-avg</th>\n",
       "      <th>gex-mito-avg</th>\n",
       "      <th>in_tissue</th>\n",
       "      <th>array_row</th>\n",
       "      <th>array_col</th>\n",
       "      <th>pxl_col_in_fullres</th>\n",
       "      <th>pxl_row_in_fullres</th>\n",
       "      <th>pos-x</th>\n",
       "      <th>pos-y</th>\n",
       "      <th>gex-umi-sum-norm</th>\n",
       "    </tr>\n",
       "  </thead>\n",
       "  <tbody>\n",
       "    <tr>\n",
       "      <th>AAACAAGTATCTCCCA</th>\n",
       "      <td>13069</td>\n",
       "      <td>4242</td>\n",
       "      <td>7.380952</td>\n",
       "      <td>97.600000</td>\n",
       "      <td>1</td>\n",
       "      <td>50</td>\n",
       "      <td>102</td>\n",
       "      <td>7475</td>\n",
       "      <td>8501</td>\n",
       "      <td>8501</td>\n",
       "      <td>2994</td>\n",
       "      <td>-11200.346439</td>\n",
       "    </tr>\n",
       "    <tr>\n",
       "      <th>AAACACCAATAACTGC</th>\n",
       "      <td>37448</td>\n",
       "      <td>7860</td>\n",
       "      <td>19.809524</td>\n",
       "      <td>256.666667</td>\n",
       "      <td>1</td>\n",
       "      <td>59</td>\n",
       "      <td>19</td>\n",
       "      <td>8553</td>\n",
       "      <td>2788</td>\n",
       "      <td>2788</td>\n",
       "      <td>1916</td>\n",
       "      <td>13178.653561</td>\n",
       "    </tr>\n",
       "    <tr>\n",
       "      <th>AAACAGAGCGACTCCT</th>\n",
       "      <td>28475</td>\n",
       "      <td>6332</td>\n",
       "      <td>15.123810</td>\n",
       "      <td>275.533333</td>\n",
       "      <td>1</td>\n",
       "      <td>14</td>\n",
       "      <td>94</td>\n",
       "      <td>3164</td>\n",
       "      <td>7950</td>\n",
       "      <td>7950</td>\n",
       "      <td>7305</td>\n",
       "      <td>4205.653561</td>\n",
       "    </tr>\n",
       "    <tr>\n",
       "      <th>AAACAGCTTTCAGAAG</th>\n",
       "      <td>39718</td>\n",
       "      <td>7957</td>\n",
       "      <td>27.676190</td>\n",
       "      <td>184.400000</td>\n",
       "      <td>1</td>\n",
       "      <td>43</td>\n",
       "      <td>9</td>\n",
       "      <td>6637</td>\n",
       "      <td>2099</td>\n",
       "      <td>2099</td>\n",
       "      <td>3832</td>\n",
       "      <td>15448.653561</td>\n",
       "    </tr>\n",
       "    <tr>\n",
       "      <th>AAACAGGGTCTATATT</th>\n",
       "      <td>33392</td>\n",
       "      <td>7791</td>\n",
       "      <td>23.447619</td>\n",
       "      <td>117.600000</td>\n",
       "      <td>1</td>\n",
       "      <td>47</td>\n",
       "      <td>13</td>\n",
       "      <td>7116</td>\n",
       "      <td>2375</td>\n",
       "      <td>2375</td>\n",
       "      <td>3353</td>\n",
       "      <td>9122.653561</td>\n",
       "    </tr>\n",
       "  </tbody>\n",
       "</table>\n",
       "</div>"
      ],
      "text/plain": [
       "                  gex-umi-sum  num_expressed_genes  gex-ribo-avg  \\\n",
       "AAACAAGTATCTCCCA        13069                 4242      7.380952   \n",
       "AAACACCAATAACTGC        37448                 7860     19.809524   \n",
       "AAACAGAGCGACTCCT        28475                 6332     15.123810   \n",
       "AAACAGCTTTCAGAAG        39718                 7957     27.676190   \n",
       "AAACAGGGTCTATATT        33392                 7791     23.447619   \n",
       "\n",
       "                  gex-mito-avg  in_tissue  array_row  array_col  \\\n",
       "AAACAAGTATCTCCCA     97.600000          1         50        102   \n",
       "AAACACCAATAACTGC    256.666667          1         59         19   \n",
       "AAACAGAGCGACTCCT    275.533333          1         14         94   \n",
       "AAACAGCTTTCAGAAG    184.400000          1         43          9   \n",
       "AAACAGGGTCTATATT    117.600000          1         47         13   \n",
       "\n",
       "                  pxl_col_in_fullres  pxl_row_in_fullres  pos-x  pos-y  \\\n",
       "AAACAAGTATCTCCCA                7475                8501   8501   2994   \n",
       "AAACACCAATAACTGC                8553                2788   2788   1916   \n",
       "AAACAGAGCGACTCCT                3164                7950   7950   7305   \n",
       "AAACAGCTTTCAGAAG                6637                2099   2099   3832   \n",
       "AAACAGGGTCTATATT                7116                2375   2375   3353   \n",
       "\n",
       "                  gex-umi-sum-norm  \n",
       "AAACAAGTATCTCCCA     -11200.346439  \n",
       "AAACACCAATAACTGC      13178.653561  \n",
       "AAACAGAGCGACTCCT       4205.653561  \n",
       "AAACAGCTTTCAGAAG      15448.653561  \n",
       "AAACAGGGTCTATATT       9122.653561  "
      ]
     },
     "execution_count": 8,
     "metadata": {},
     "output_type": "execute_result"
    }
   ],
   "source": [
    "df.head()"
   ]
  },
  {
   "cell_type": "code",
   "execution_count": 9,
   "metadata": {},
   "outputs": [],
   "source": [
    "x_dim = 1200\n",
    "y_dim = 1000\n",
    "\n",
    "fig = plt.figure()\n",
    "\n",
    "scatter = plt.scatter(df['pos-x'], \n",
    "                      df['pos-y'],\n",
    "                      display_names=False, \n",
    "                      default_size=20)\n",
    "\n",
    "\n",
    "scatter.default_size = 250\n",
    "scatter.default_opacities = [0.5]*5164\n",
    "\n",
    "plt.xlim(0, 2.0*x_dim)\n",
    "plt.ylim(0, 2.0*y_dim)\n",
    "fig.title = 'Codex Cell Locations'\n",
    "\n"
   ]
  },
  {
   "cell_type": "code",
   "execution_count": 10,
   "metadata": {},
   "outputs": [
    {
     "data": {
      "application/vnd.jupyter.widget-view+json": {
       "model_id": "6d07cda8ebb94e5dba0c93fbc5d595b5",
       "version_major": 2,
       "version_minor": 0
      },
      "text/plain": [
       "Figure(axes=[Axis(scale=LinearScale(max=2400.0, min=0.0), side='bottom'), Axis(orientation='vertical', scale=L…"
      ]
     },
     "metadata": {},
     "output_type": "display_data"
    }
   ],
   "source": [
    "fig"
   ]
  },
  {
   "cell_type": "code",
   "execution_count": null,
   "metadata": {},
   "outputs": [],
   "source": []
  }
 ],
 "metadata": {
  "kernelspec": {
   "display_name": "Python 3",
   "language": "python",
   "name": "python3"
  },
  "language_info": {
   "codemirror_mode": {
    "name": "ipython",
    "version": 3
   },
   "file_extension": ".py",
   "mimetype": "text/x-python",
   "name": "python",
   "nbconvert_exporter": "python",
   "pygments_lexer": "ipython3",
   "version": "3.6.6"
  }
 },
 "nbformat": 4,
 "nbformat_minor": 2
}
