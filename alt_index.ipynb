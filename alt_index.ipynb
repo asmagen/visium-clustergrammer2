{
 "cells": [
  {
   "cell_type": "markdown",
   "metadata": {},
   "source": [
    "\n",
    "# Visium-Clustergrammer2\n",
    "\n"
   ]
  },
  {
   "cell_type": "code",
   "execution_count": 1,
   "metadata": {},
   "outputs": [
    {
     "data": {
      "text/html": [
       "<style>.container { width:100% !important; }</style>"
      ],
      "text/plain": [
       "<IPython.core.display.HTML object>"
      ]
     },
     "metadata": {},
     "output_type": "display_data"
    }
   ],
   "source": [
    "from IPython.core.display import display, HTML\n",
    "display(HTML(\"<style>.container { width:100% !important; }</style>\"))"
   ]
  },
  {
   "cell_type": "code",
   "execution_count": 2,
   "metadata": {},
   "outputs": [
    {
     "name": "stdout",
     "output_type": "stream",
     "text": [
      ">> clustergrammer2 backend version 0.5.6\n"
     ]
    }
   ],
   "source": [
    "import pandas as pd\n",
    "# df = {}\n",
    "\n",
    "from clustergrammer2 import net\n",
    "\n",
    "import ipywidgets as widgets\n",
    "import numpy as np\n",
    "from bqplot import pyplot as plt\n",
    "import bqplot\n",
    "from ipywidgets import HBox\n",
    "\n",
    "from copy import deepcopy\n",
    "from glob import glob\n",
    "from scipy.spatial.distance import pdist, squareform\n",
    "from scipy.spatial import Voronoi\n",
    "\n",
    "import warnings\n",
    "warnings.filterwarnings('ignore')"
   ]
  },
  {
   "cell_type": "code",
   "execution_count": 3,
   "metadata": {},
   "outputs": [
    {
     "data": {
      "text/html": [
       "<div>\n",
       "<style scoped>\n",
       "    .dataframe tbody tr th:only-of-type {\n",
       "        vertical-align: middle;\n",
       "    }\n",
       "\n",
       "    .dataframe tbody tr th {\n",
       "        vertical-align: top;\n",
       "    }\n",
       "\n",
       "    .dataframe thead th {\n",
       "        text-align: right;\n",
       "    }\n",
       "</style>\n",
       "<table border=\"1\" class=\"dataframe\">\n",
       "  <thead>\n",
       "    <tr style=\"text-align: right;\">\n",
       "      <th></th>\n",
       "      <th>gex-umi-sum</th>\n",
       "      <th>num_expressed_genes</th>\n",
       "      <th>gex-ribo-avg</th>\n",
       "      <th>gex-mito-avg</th>\n",
       "      <th>in_tissue</th>\n",
       "      <th>array_row</th>\n",
       "      <th>array_col</th>\n",
       "      <th>pxl_col_in_fullres</th>\n",
       "      <th>pxl_row_in_fullres</th>\n",
       "      <th>pos-x</th>\n",
       "      <th>pos-y</th>\n",
       "      <th>gex-umi-sum-norm</th>\n",
       "      <th>Cell Type</th>\n",
       "    </tr>\n",
       "  </thead>\n",
       "  <tbody>\n",
       "    <tr>\n",
       "      <th>AAACAAGTATCTCCCA</th>\n",
       "      <td>13069</td>\n",
       "      <td>4242</td>\n",
       "      <td>7.380952</td>\n",
       "      <td>97.600000</td>\n",
       "      <td>1</td>\n",
       "      <td>50</td>\n",
       "      <td>102</td>\n",
       "      <td>7475</td>\n",
       "      <td>8501</td>\n",
       "      <td>8501</td>\n",
       "      <td>2994</td>\n",
       "      <td>0.194714</td>\n",
       "      <td>Pvalb</td>\n",
       "    </tr>\n",
       "    <tr>\n",
       "      <th>AAACACCAATAACTGC</th>\n",
       "      <td>37448</td>\n",
       "      <td>7860</td>\n",
       "      <td>19.809524</td>\n",
       "      <td>256.666667</td>\n",
       "      <td>1</td>\n",
       "      <td>59</td>\n",
       "      <td>19</td>\n",
       "      <td>8553</td>\n",
       "      <td>2788</td>\n",
       "      <td>2788</td>\n",
       "      <td>1916</td>\n",
       "      <td>0.557934</td>\n",
       "      <td>Pvalb</td>\n",
       "    </tr>\n",
       "    <tr>\n",
       "      <th>AAACAGAGCGACTCCT</th>\n",
       "      <td>28475</td>\n",
       "      <td>6332</td>\n",
       "      <td>15.123810</td>\n",
       "      <td>275.533333</td>\n",
       "      <td>1</td>\n",
       "      <td>14</td>\n",
       "      <td>94</td>\n",
       "      <td>3164</td>\n",
       "      <td>7950</td>\n",
       "      <td>7950</td>\n",
       "      <td>7305</td>\n",
       "      <td>0.424246</td>\n",
       "      <td>L2/3</td>\n",
       "    </tr>\n",
       "    <tr>\n",
       "      <th>AAACAGCTTTCAGAAG</th>\n",
       "      <td>39718</td>\n",
       "      <td>7957</td>\n",
       "      <td>27.676190</td>\n",
       "      <td>184.400000</td>\n",
       "      <td>1</td>\n",
       "      <td>43</td>\n",
       "      <td>9</td>\n",
       "      <td>6637</td>\n",
       "      <td>2099</td>\n",
       "      <td>2099</td>\n",
       "      <td>3832</td>\n",
       "      <td>0.591755</td>\n",
       "      <td>Vip</td>\n",
       "    </tr>\n",
       "    <tr>\n",
       "      <th>AAACAGGGTCTATATT</th>\n",
       "      <td>33392</td>\n",
       "      <td>7791</td>\n",
       "      <td>23.447619</td>\n",
       "      <td>117.600000</td>\n",
       "      <td>1</td>\n",
       "      <td>47</td>\n",
       "      <td>13</td>\n",
       "      <td>7116</td>\n",
       "      <td>2375</td>\n",
       "      <td>2375</td>\n",
       "      <td>3353</td>\n",
       "      <td>0.497504</td>\n",
       "      <td>Vip</td>\n",
       "    </tr>\n",
       "  </tbody>\n",
       "</table>\n",
       "</div>"
      ],
      "text/plain": [
       "                  gex-umi-sum  num_expressed_genes  gex-ribo-avg  \\\n",
       "AAACAAGTATCTCCCA        13069                 4242      7.380952   \n",
       "AAACACCAATAACTGC        37448                 7860     19.809524   \n",
       "AAACAGAGCGACTCCT        28475                 6332     15.123810   \n",
       "AAACAGCTTTCAGAAG        39718                 7957     27.676190   \n",
       "AAACAGGGTCTATATT        33392                 7791     23.447619   \n",
       "\n",
       "                  gex-mito-avg  in_tissue  array_row  array_col  \\\n",
       "AAACAAGTATCTCCCA     97.600000          1         50        102   \n",
       "AAACACCAATAACTGC    256.666667          1         59         19   \n",
       "AAACAGAGCGACTCCT    275.533333          1         14         94   \n",
       "AAACAGCTTTCAGAAG    184.400000          1         43          9   \n",
       "AAACAGGGTCTATATT    117.600000          1         47         13   \n",
       "\n",
       "                  pxl_col_in_fullres  pxl_row_in_fullres  pos-x  pos-y  \\\n",
       "AAACAAGTATCTCCCA                7475                8501   8501   2994   \n",
       "AAACACCAATAACTGC                8553                2788   2788   1916   \n",
       "AAACAGAGCGACTCCT                3164                7950   7950   7305   \n",
       "AAACAGCTTTCAGAAG                6637                2099   2099   3832   \n",
       "AAACAGGGTCTATATT                7116                2375   2375   3353   \n",
       "\n",
       "                  gex-umi-sum-norm Cell Type  \n",
       "AAACAAGTATCTCCCA          0.194714     Pvalb  \n",
       "AAACACCAATAACTGC          0.557934     Pvalb  \n",
       "AAACAGAGCGACTCCT          0.424246      L2/3  \n",
       "AAACAGCTTTCAGAAG          0.591755       Vip  \n",
       "AAACAGGGTCTATATT          0.497504       Vip  "
      ]
     },
     "execution_count": 3,
     "metadata": {},
     "output_type": "execute_result"
    }
   ],
   "source": [
    "df_meta = pd.read_csv('data/processed/df_meta.csv', index_col=0)\n",
    "df_meta.head()"
   ]
  },
  {
   "cell_type": "code",
   "execution_count": 4,
   "metadata": {},
   "outputs": [
    {
     "data": {
      "text/plain": [
       "(2696, 13)"
      ]
     },
     "execution_count": 4,
     "metadata": {},
     "output_type": "execute_result"
    }
   ],
   "source": [
    "df_meta.shape"
   ]
  },
  {
   "cell_type": "code",
   "execution_count": 5,
   "metadata": {},
   "outputs": [],
   "source": [
    "net.viz = net.load_json_to_dict('data/processed/pre-calc-viz.json')"
   ]
  },
  {
   "cell_type": "code",
   "execution_count": 6,
   "metadata": {},
   "outputs": [],
   "source": [
    "ini_cat_colors = net.viz['cat_colors']['col']['cat-0']\n",
    "cat_colors = {}\n",
    "for inst_key in ini_cat_colors:\n",
    "    cat_colors[inst_key.split(': ')[1]] = ini_cat_colors[inst_key]"
   ]
  },
  {
   "cell_type": "code",
   "execution_count": null,
   "metadata": {},
   "outputs": [],
   "source": []
  },
  {
   "cell_type": "code",
   "execution_count": 7,
   "metadata": {},
   "outputs": [],
   "source": [
    "# df = pd.read_csv('data/processed/df_meta.csv', index_col=0)\n",
    "# df.shape"
   ]
  },
  {
   "cell_type": "code",
   "execution_count": 9,
   "metadata": {},
   "outputs": [],
   "source": [
    "df_meta['plot-x'] = df_meta['pos-x'].apply(lambda x: x/2 - 700)\n",
    "df_meta['plot-y'] = df_meta['pos-y'].apply(lambda x: x/2 )"
   ]
  },
  {
   "cell_type": "code",
   "execution_count": 10,
   "metadata": {},
   "outputs": [
    {
     "data": {
      "text/plain": [
       "(250, 2696)"
      ]
     },
     "execution_count": 10,
     "metadata": {},
     "output_type": "execute_result"
    }
   ],
   "source": [
    "df_gex = pd.read_csv('data/processed/gex.csv', index_col=0)\n",
    "df_gex.shape"
   ]
  },
  {
   "cell_type": "code",
   "execution_count": 11,
   "metadata": {},
   "outputs": [
    {
     "data": {
      "text/plain": [
       "['gex-umi-sum',\n",
       " 'num_expressed_genes',\n",
       " 'gex-ribo-avg',\n",
       " 'gex-mito-avg',\n",
       " 'in_tissue',\n",
       " 'array_row',\n",
       " 'array_col',\n",
       " 'pxl_col_in_fullres',\n",
       " 'pxl_row_in_fullres',\n",
       " 'pos-x',\n",
       " 'pos-y',\n",
       " 'gex-umi-sum-norm',\n",
       " 'Cell Type',\n",
       " 'plot-x',\n",
       " 'plot-y']"
      ]
     },
     "execution_count": 11,
     "metadata": {},
     "output_type": "execute_result"
    }
   ],
   "source": [
    "df_meta.columns.tolist()"
   ]
  },
  {
   "cell_type": "code",
   "execution_count": 13,
   "metadata": {},
   "outputs": [],
   "source": [
    "x_dim = 2000\n",
    "y_dim = 2000\n",
    "\n",
    "fig = plt.figure()\n",
    "\n",
    "color_list = [ cat_colors[df_meta.loc[x, 'Cell Type']] for x in df_gex.columns.tolist()]\n",
    "\n",
    "def_tt = bqplot.Tooltip(fields=['name', 'Cell Type'], formats=[''])\n",
    "\n",
    "\n",
    "scatter = plt.scatter(df_meta['plot-x'], \n",
    "                      df_meta['plot-y'],\n",
    "                      display_names=False, \n",
    "                      default_size=20, \n",
    "                      tooltip=def_tt,\n",
    "                      colors=color_list)\n",
    "\n",
    "\n",
    "scatter.default_size = 100\n",
    "scatter.default_opacities = [0.5]*5164\n",
    "\n",
    "top_margin = 200\n",
    "inst_width = 800\n",
    "inst_height = 1000\n",
    "fig.layout.min_height = str(inst_height) + 'px'\n",
    "fig.layout.min_width  = str(inst_width) + 'px'\n",
    "\n",
    "plt.xlim(0, 2.0*x_dim)\n",
    "plt.ylim(0, 2.0*y_dim)\n",
    "fig.title = 'Visium Tissue'\n",
    "fig.fig_margin = {'top': top_margin, 'bottom': 5, 'left': 5, 'right': 5}\n"
   ]
  },
  {
   "cell_type": "code",
   "execution_count": 14,
   "metadata": {},
   "outputs": [],
   "source": [
    "# df['gex-umi-sum'].tolist()"
   ]
  },
  {
   "cell_type": "code",
   "execution_count": 15,
   "metadata": {},
   "outputs": [],
   "source": [
    "default_opacity = 0.75"
   ]
  },
  {
   "cell_type": "code",
   "execution_count": 16,
   "metadata": {},
   "outputs": [],
   "source": [
    "def cat_highlight(inst_value):\n",
    "    \n",
    "    cols = df_gex.columns.tolist()\n",
    "\n",
    "    if inst_value == 'reset_cats':\n",
    "        list_opacities = [default_opacity for x in cols]\n",
    "        scatter.default_opacities = list_opacities\n",
    "        \n",
    "    else:\n",
    "        \n",
    "        inst_cat_title = inst_value.split(': ')[0]\n",
    "        inst_cat = inst_value.split(': ')[1]\n",
    "\n",
    "        list_opacities = []\n",
    "\n",
    "        for inst_label in cols:\n",
    "            inst_opacity = 0.15\n",
    "            if df_meta.loc[inst_label, inst_cat_title] == inst_cat:\n",
    "                inst_opacity = 1\n",
    "            list_opacities.append(inst_opacity)        \n",
    "\n",
    "    # patch.opacities = list_opacities\n",
    "    scatter.default_opacities = list_opacities"
   ]
  },
  {
   "cell_type": "code",
   "execution_count": 17,
   "metadata": {},
   "outputs": [],
   "source": [
    "def on_value_change(change):\n",
    "    \n",
    "    \n",
    "    if change['new'] == 'null':\n",
    "        cat_highlight('reset_cats')\n",
    "        \n",
    "        fig.title = 'Visium Tissue'\n",
    "    else: \n",
    "        # mousing over category\n",
    "        if 'cat-' in change['new']:\n",
    "            inst_cat = change['new'].split(' -> ')[1]\n",
    "            \n",
    "            # print('on_value_change', inst_cat)\n",
    "            cat_highlight(inst_cat)       \n",
    "            \n",
    "            fig.title = 'Visium Tissue'\n",
    "            \n",
    "        # mousing over marker\n",
    "        else:\n",
    "            inst_marker = change['new'].split(' -> ')[1]\n",
    "            ser_opacity = df_gex.loc[inst_marker]\n",
    "            \n",
    "            fig.title = 'Visium Tissue: ' + inst_marker\n",
    "            \n",
    "            \n",
    "            # the scatterplot dots are not in the same order as the data in the dataframe\n",
    "            #list_opacities = [float(x/ser_opacity.max()) for x in list(ser_opacity.get_values())]\n",
    "            \n",
    "            # loop up opacities\n",
    "            list_opacities = []\n",
    "            rows = ser_opacity.index.tolist()\n",
    "            for inst_name in df_gex.columns.tolist():\n",
    "                if inst_name in rows:\n",
    "                    list_opacities.append( float(ser_opacity[inst_name]/ser_opacity.max())  )\n",
    "                else:\n",
    "                    list_opacities.append(0)\n",
    "                \n",
    "            scatter.default_opacities = list_opacities\n"
   ]
  },
  {
   "cell_type": "code",
   "execution_count": 18,
   "metadata": {},
   "outputs": [],
   "source": [
    "net.widget()\n",
    "net.widget_instance.observe(on_value_change, names='value')"
   ]
  },
  {
   "cell_type": "code",
   "execution_count": 19,
   "metadata": {
    "scrolled": false
   },
   "outputs": [
    {
     "data": {
      "application/vnd.jupyter.widget-view+json": {
       "model_id": "30a1ae56a27b43ec9645ca8bc19c88a1",
       "version_major": 2,
       "version_minor": 0
      },
      "text/plain": [
       "HBox(children=(Figure(axes=[Axis(scale=LinearScale(max=4000.0, min=0.0), side='bottom'), Axis(orientation='ver…"
      ]
     },
     "metadata": {},
     "output_type": "display_data"
    }
   ],
   "source": [
    "HBox([fig, net.widget_instance])"
   ]
  },
  {
   "cell_type": "code",
   "execution_count": null,
   "metadata": {},
   "outputs": [],
   "source": []
  },
  {
   "cell_type": "code",
   "execution_count": null,
   "metadata": {},
   "outputs": [],
   "source": []
  },
  {
   "cell_type": "code",
   "execution_count": null,
   "metadata": {},
   "outputs": [],
   "source": []
  },
  {
   "cell_type": "code",
   "execution_count": null,
   "metadata": {},
   "outputs": [],
   "source": []
  },
  {
   "cell_type": "code",
   "execution_count": null,
   "metadata": {},
   "outputs": [],
   "source": []
  },
  {
   "cell_type": "code",
   "execution_count": null,
   "metadata": {},
   "outputs": [],
   "source": []
  },
  {
   "cell_type": "code",
   "execution_count": null,
   "metadata": {},
   "outputs": [],
   "source": []
  }
 ],
 "metadata": {
  "kernelspec": {
   "display_name": "Python 3",
   "language": "python",
   "name": "python3"
  },
  "language_info": {
   "codemirror_mode": {
    "name": "ipython",
    "version": 3
   },
   "file_extension": ".py",
   "mimetype": "text/x-python",
   "name": "python",
   "nbconvert_exporter": "python",
   "pygments_lexer": "ipython3",
   "version": "3.6.5"
  }
 },
 "nbformat": 4,
 "nbformat_minor": 2
}
